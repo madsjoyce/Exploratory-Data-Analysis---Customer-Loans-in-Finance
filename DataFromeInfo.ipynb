{
 "cells": [
  {
   "cell_type": "code",
   "execution_count": 8,
   "metadata": {},
   "outputs": [],
   "source": [
    "import pandas as pd"
   ]
  },
  {
   "cell_type": "code",
   "execution_count": 10,
   "metadata": {},
   "outputs": [],
   "source": [
    "from DataFrameInfo_class import DataFrameInfo\n",
    "\n",
    "transformed_df = pd.read_csv(\"transformed_df.csv\")\n",
    "df_info = DataFrameInfo(transformed_df)"
   ]
  },
  {
   "cell_type": "code",
   "execution_count": 11,
   "metadata": {},
   "outputs": [
    {
     "name": "stdout",
     "output_type": "stream",
     "text": [
      "Column Data Types:\n",
      "Unnamed: 0                       int64\n",
      "id                               int64\n",
      "member_id                        int64\n",
      "loan_amount                      int64\n",
      "funded_amount                  float64\n",
      "funded_amount_inv              float64\n",
      "term                           float64\n",
      "int_rate                       float64\n",
      "instalment                     float64\n",
      "grade                           object\n",
      "sub_grade                       object\n",
      "employment_length               object\n",
      "home_ownership                  object\n",
      "annual_inc                     float64\n",
      "verification_status             object\n",
      "issue_date                      object\n",
      "loan_status                     object\n",
      "payment_plan                    object\n",
      "purpose                         object\n",
      "dti                            float64\n",
      "delinq_2yrs                      int64\n",
      "earliest_credit_line            object\n",
      "inq_last_6mths                   int64\n",
      "mths_since_last_delinq         float64\n",
      "mths_since_last_record         float64\n",
      "open_accounts                    int64\n",
      "total_accounts                   int64\n",
      "out_prncp                      float64\n",
      "out_prncp_inv                  float64\n",
      "total_payment                  float64\n",
      "total_payment_inv              float64\n",
      "total_rec_prncp                float64\n",
      "total_rec_int                  float64\n",
      "total_rec_late_fee             float64\n",
      "recoveries                     float64\n",
      "collection_recovery_fee        float64\n",
      "last_payment_date               object\n",
      "last_payment_amount            float64\n",
      "next_payment_date               object\n",
      "last_credit_pull_date           object\n",
      "collections_12_mths_ex_med     float64\n",
      "mths_since_last_major_derog    float64\n",
      "policy_code                      int64\n",
      "application_type                object\n",
      "dtype: object\n"
     ]
    }
   ],
   "source": [
    "# Example calls to methods\n",
    "print(\"Column Data Types:\")\n",
    "print(df_info.describe_columns())"
   ]
  },
  {
   "cell_type": "code",
   "execution_count": 4,
   "metadata": {},
   "outputs": [
    {
     "name": "stdout",
     "output_type": "stream",
     "text": [
      "\n",
      "Statistical Values:\n",
      "         Unnamed: 0            id     member_id   loan_amount  funded_amount  \\\n",
      "count  54231.000000  5.423100e+04  5.423100e+04  54231.000000   51224.000000   \n",
      "mean   27115.000000  7.621797e+06  8.655350e+06  13333.076100   13229.509117   \n",
      "std    15655.285561  9.571362e+06  1.031281e+07   8082.196709    8019.017599   \n",
      "min        0.000000  5.552100e+04  7.069400e+04    500.000000     500.000000   \n",
      "25%    13557.500000  7.594330e+05  9.587720e+05   7000.000000    7000.000000   \n",
      "50%    27115.000000  7.084590e+06  8.709873e+06  12000.000000   12000.000000   \n",
      "75%    40672.500000  8.860616e+06  1.052714e+07  18000.000000   18000.000000   \n",
      "max    54230.000000  3.867612e+07  4.146185e+07  35000.000000   35000.000000   \n",
      "\n",
      "       funded_amount_inv          term      int_rate    instalment  \\\n",
      "count       54231.000000  49459.000000  49062.000000  54231.000000   \n",
      "mean        12952.622979     42.606199     13.507328    400.013953   \n",
      "std          8099.473527     10.719573      4.392893    238.920012   \n",
      "min             0.000000     36.000000      5.420000     15.670000   \n",
      "25%          6700.000000     36.000000     10.370000    224.205000   \n",
      "50%         11300.000000     36.000000     13.160000    347.150000   \n",
      "75%         18000.000000     60.000000     16.200000    527.550000   \n",
      "max         35000.000000     60.000000     26.060000   1407.010000   \n",
      "\n",
      "         annual_inc  ...  total_payment_inv  total_rec_prncp  total_rec_int  \\\n",
      "count  5.423100e+04  ...       54231.000000     54231.000000   54231.000000   \n",
      "mean   7.222085e+04  ...       11788.946618      9407.048589    2577.757101   \n",
      "std    5.158934e+04  ...        8363.508506      6958.124264    2581.657345   \n",
      "min    3.300000e+03  ...           0.000000         0.000000       0.000000   \n",
      "25%    4.500000e+04  ...        5658.815000      4264.350000     889.560000   \n",
      "50%    6.100000e+04  ...        9835.830000      7644.920000    1734.640000   \n",
      "75%    8.600000e+04  ...       15978.200000     12505.625000    3323.765000   \n",
      "max    2.039784e+06  ...       55061.000000     35000.020000   23062.450000   \n",
      "\n",
      "       total_rec_late_fee    recoveries  collection_recovery_fee  \\\n",
      "count        54231.000000  54231.000000             54231.000000   \n",
      "mean             0.901512     93.501288                10.859057   \n",
      "std              6.215792    630.843636               120.193950   \n",
      "min              0.000000      0.000000                 0.000000   \n",
      "25%              0.000000      0.000000                 0.000000   \n",
      "50%              0.000000      0.000000                 0.000000   \n",
      "75%              0.000000      0.000000                 0.000000   \n",
      "max            358.680000  27750.000000              7002.190000   \n",
      "\n",
      "       last_payment_amount  collections_12_mths_ex_med  \\\n",
      "count         54231.000000                54180.000000   \n",
      "mean           3130.706393                    0.004208   \n",
      "std            5323.801675                    0.070990   \n",
      "min               0.000000                    0.000000   \n",
      "25%             289.790000                    0.000000   \n",
      "50%             562.670000                    0.000000   \n",
      "75%            3738.120000                    0.000000   \n",
      "max           36115.200000                    4.000000   \n",
      "\n",
      "       mths_since_last_major_derog  policy_code  \n",
      "count                  7499.000000      54231.0  \n",
      "mean                     42.253634          1.0  \n",
      "std                      21.052360          0.0  \n",
      "min                       0.000000          1.0  \n",
      "25%                      26.000000          1.0  \n",
      "50%                      42.000000          1.0  \n",
      "75%                      59.000000          1.0  \n",
      "max                     146.000000          1.0  \n",
      "\n",
      "[8 rows x 30 columns]\n"
     ]
    }
   ],
   "source": [
    "print(\"\\nStatistical Values:\")\n",
    "print(df_info.extract_statistical_values())"
   ]
  },
  {
   "cell_type": "code",
   "execution_count": 5,
   "metadata": {},
   "outputs": [
    {
     "name": "stdout",
     "output_type": "stream",
     "text": [
      "\n",
      "Distinct Values Count:\n",
      "Unnamed: 0                     54231\n",
      "id                             54231\n",
      "member_id                      54231\n",
      "loan_amount                     1083\n",
      "funded_amount                   1122\n",
      "funded_amount_inv               5261\n",
      "term                               2\n",
      "int_rate                         457\n",
      "instalment                     19940\n",
      "grade                              7\n",
      "sub_grade                         35\n",
      "employment_length                 11\n",
      "home_ownership                     5\n",
      "annual_inc                      6132\n",
      "verification_status                3\n",
      "issue_date                        61\n",
      "loan_status                        9\n",
      "payment_plan                       2\n",
      "purpose                           14\n",
      "dti                             3611\n",
      "delinq_2yrs                       16\n",
      "earliest_credit_line             587\n",
      "inq_last_6mths                    24\n",
      "mths_since_last_delinq           100\n",
      "mths_since_last_record           120\n",
      "open_accounts                     48\n",
      "total_accounts                    88\n",
      "out_prncp                      17673\n",
      "out_prncp_inv                  17872\n",
      "total_payment                  51698\n",
      "total_payment_inv              51561\n",
      "total_rec_prncp                25117\n",
      "total_rec_int                  49331\n",
      "total_rec_late_fee              1439\n",
      "recoveries                      3599\n",
      "collection_recovery_fee         2944\n",
      "last_payment_date                 98\n",
      "last_payment_amount            38235\n",
      "next_payment_date                 96\n",
      "last_credit_pull_date            101\n",
      "collections_12_mths_ex_med         5\n",
      "mths_since_last_major_derog      113\n",
      "policy_code                        1\n",
      "application_type                   1\n",
      "dtype: int64\n"
     ]
    }
   ],
   "source": [
    "print(\"\\nDistinct Values Count:\")\n",
    "print(df_info.count_distinct_values())"
   ]
  },
  {
   "cell_type": "code",
   "execution_count": 6,
   "metadata": {},
   "outputs": [
    {
     "name": "stdout",
     "output_type": "stream",
     "text": [
      "\n",
      "Null Values Information:\n",
      "                             Null Count  Percentage Null\n",
      "Unnamed: 0                            0         0.000000\n",
      "id                                    0         0.000000\n",
      "member_id                             0         0.000000\n",
      "loan_amount                           0         0.000000\n",
      "funded_amount                      3007         5.544799\n",
      "funded_amount_inv                     0         0.000000\n",
      "term                               4772         8.799395\n",
      "int_rate                           5169         9.531449\n",
      "instalment                            0         0.000000\n",
      "grade                                 0         0.000000\n",
      "sub_grade                             0         0.000000\n",
      "employment_length                  2118         3.905515\n",
      "home_ownership                        0         0.000000\n",
      "annual_inc                            0         0.000000\n",
      "verification_status                   0         0.000000\n",
      "issue_date                            0         0.000000\n",
      "loan_status                           0         0.000000\n",
      "payment_plan                          0         0.000000\n",
      "purpose                               0         0.000000\n",
      "dti                                   0         0.000000\n",
      "delinq_2yrs                           0         0.000000\n",
      "earliest_credit_line                  0         0.000000\n",
      "inq_last_6mths                        0         0.000000\n",
      "mths_since_last_delinq            31002        57.166565\n",
      "mths_since_last_record            48050        88.602460\n",
      "open_accounts                         0         0.000000\n",
      "total_accounts                        0         0.000000\n",
      "out_prncp                             0         0.000000\n",
      "out_prncp_inv                         0         0.000000\n",
      "total_payment                         0         0.000000\n",
      "total_payment_inv                     0         0.000000\n",
      "total_rec_prncp                       0         0.000000\n",
      "total_rec_int                         0         0.000000\n",
      "total_rec_late_fee                    0         0.000000\n",
      "recoveries                            0         0.000000\n",
      "collection_recovery_fee               0         0.000000\n",
      "last_payment_date                    73         0.134609\n",
      "last_payment_amount                   0         0.000000\n",
      "next_payment_date                 32608        60.127971\n",
      "last_credit_pull_date                 7         0.012908\n",
      "collections_12_mths_ex_med           51         0.094042\n",
      "mths_since_last_major_derog       46732        86.172116\n",
      "policy_code                           0         0.000000\n",
      "application_type                      0         0.000000\n"
     ]
    }
   ],
   "source": [
    "print(\"\\nNull Values Information:\")\n",
    "print(df_info.count_null_values())"
   ]
  },
  {
   "cell_type": "code",
   "execution_count": 7,
   "metadata": {},
   "outputs": [
    {
     "name": "stdout",
     "output_type": "stream",
     "text": [
      "DataFrame Shape: (54231, 44)\n"
     ]
    }
   ],
   "source": [
    "df_info.print_shape()"
   ]
  }
 ],
 "metadata": {
  "kernelspec": {
   "display_name": "base",
   "language": "python",
   "name": "python3"
  },
  "language_info": {
   "codemirror_mode": {
    "name": "ipython",
    "version": 3
   },
   "file_extension": ".py",
   "mimetype": "text/x-python",
   "name": "python",
   "nbconvert_exporter": "python",
   "pygments_lexer": "ipython3",
   "version": "3.11.5"
  }
 },
 "nbformat": 4,
 "nbformat_minor": 2
}
