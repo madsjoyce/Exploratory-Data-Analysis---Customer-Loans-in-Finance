{
 "cells": [
  {
   "cell_type": "markdown",
   "metadata": {},
   "source": [
    "## Transforming loan_payments_data.csv to transformed_df.csv"
   ]
  },
  {
   "cell_type": "code",
   "execution_count": 10,
   "metadata": {},
   "outputs": [],
   "source": [
    "import pandas as pd\n",
    "from DataTransform import DataTransform\n",
    "\n",
    "transformed_df = pd.read_csv(\"loan_payments_data.csv\")"
   ]
  },
  {
   "cell_type": "code",
   "execution_count": 11,
   "metadata": {},
   "outputs": [],
   "source": [
    "transformer = DataTransform(transformed_df)"
   ]
  },
  {
   "cell_type": "code",
   "execution_count": 12,
   "metadata": {},
   "outputs": [
    {
     "name": "stdout",
     "output_type": "stream",
     "text": [
      "term\n"
     ]
    }
   ],
   "source": [
    "excess_symbol_columns = ['term']\n",
    "\n",
    "for column in excess_symbol_columns:\n",
    "    print(column)\n",
    "    transformer.remove_excess_symbols(column)"
   ]
  },
  {
   "cell_type": "code",
   "execution_count": 13,
   "metadata": {},
   "outputs": [
    {
     "name": "stdout",
     "output_type": "stream",
     "text": [
      "issue_date\n",
      "earliest_credit_line\n",
      "last_payment_date\n",
      "next_payment_date\n",
      "last_credit_pull_date\n"
     ]
    }
   ],
   "source": [
    "date_columns = ['issue_date', 'earliest_credit_line', 'last_payment_date', 'next_payment_date', 'last_credit_pull_date']\n",
    "\n",
    "for column in date_columns:\n",
    "    print(column)\n",
    "    transformer.convert_to_datetime(column)"
   ]
  },
  {
   "cell_type": "code",
   "execution_count": 14,
   "metadata": {},
   "outputs": [
    {
     "name": "stdout",
     "output_type": "stream",
     "text": [
      "term\n"
     ]
    }
   ],
   "source": [
    "numeric_columns = ['term']\n",
    "\n",
    "for column in numeric_columns:\n",
    "    print(column)\n",
    "    transformer.convert_to_numeric(column)"
   ]
  },
  {
   "cell_type": "code",
   "execution_count": 15,
   "metadata": {},
   "outputs": [
    {
     "name": "stdout",
     "output_type": "stream",
     "text": [
      "home_ownership\n",
      "grade\n",
      "sub_grade\n",
      "verification_status\n",
      "loan_status\n",
      "purpose\n",
      "policy_code\n",
      "application_type\n",
      "employment_length\n"
     ]
    }
   ],
   "source": [
    "categorical_columns = ['home_ownership', 'grade', 'sub_grade', 'verification_status', 'loan_status', 'purpose', 'policy_code', 'application_type','employment_length']\n",
    "\n",
    "for column in categorical_columns:\n",
    "    print(column)\n",
    "    transformer.convert_to_categorical(column)"
   ]
  },
  {
   "cell_type": "code",
   "execution_count": 16,
   "metadata": {},
   "outputs": [
    {
     "name": "stdout",
     "output_type": "stream",
     "text": [
      "employment_length\n"
     ]
    }
   ],
   "source": [
    "category_to_numeric_columns = ['employment_length']\n",
    "\n",
    "for column in category_to_numeric_columns:\n",
    "    print(column)\n",
    "    transformer.convert_categorical_to_numeric(column)"
   ]
  },
  {
   "cell_type": "code",
   "execution_count": 17,
   "metadata": {},
   "outputs": [
    {
     "name": "stdout",
     "output_type": "stream",
     "text": [
      "<class 'pandas.core.frame.DataFrame'>\n",
      "RangeIndex: 54231 entries, 0 to 54230\n",
      "Data columns (total 43 columns):\n",
      " #   Column                       Non-Null Count  Dtype         \n",
      "---  ------                       --------------  -----         \n",
      " 0   id                           54231 non-null  int64         \n",
      " 1   member_id                    54231 non-null  int64         \n",
      " 2   loan_amount                  54231 non-null  int64         \n",
      " 3   funded_amount                51224 non-null  float64       \n",
      " 4   funded_amount_inv            54231 non-null  float64       \n",
      " 5   term                         49459 non-null  float64       \n",
      " 6   int_rate                     49062 non-null  float64       \n",
      " 7   instalment                   54231 non-null  float64       \n",
      " 8   grade                        54231 non-null  category      \n",
      " 9   sub_grade                    54231 non-null  category      \n",
      " 10  employment_length            52113 non-null  category      \n",
      " 11  home_ownership               54231 non-null  category      \n",
      " 12  annual_inc                   54231 non-null  float64       \n",
      " 13  verification_status          54231 non-null  category      \n",
      " 14  issue_date                   54231 non-null  datetime64[ns]\n",
      " 15  loan_status                  54231 non-null  category      \n",
      " 16  payment_plan                 54231 non-null  object        \n",
      " 17  purpose                      54231 non-null  category      \n",
      " 18  dti                          54231 non-null  float64       \n",
      " 19  delinq_2yrs                  54231 non-null  int64         \n",
      " 20  earliest_credit_line         54231 non-null  datetime64[ns]\n",
      " 21  inq_last_6mths               54231 non-null  int64         \n",
      " 22  mths_since_last_delinq       23229 non-null  float64       \n",
      " 23  mths_since_last_record       6181 non-null   float64       \n",
      " 24  open_accounts                54231 non-null  int64         \n",
      " 25  total_accounts               54231 non-null  int64         \n",
      " 26  out_prncp                    54231 non-null  float64       \n",
      " 27  out_prncp_inv                54231 non-null  float64       \n",
      " 28  total_payment                54231 non-null  float64       \n",
      " 29  total_payment_inv            54231 non-null  float64       \n",
      " 30  total_rec_prncp              54231 non-null  float64       \n",
      " 31  total_rec_int                54231 non-null  float64       \n",
      " 32  total_rec_late_fee           54231 non-null  float64       \n",
      " 33  recoveries                   54231 non-null  float64       \n",
      " 34  collection_recovery_fee      54231 non-null  float64       \n",
      " 35  last_payment_date            54158 non-null  datetime64[ns]\n",
      " 36  last_payment_amount          54231 non-null  float64       \n",
      " 37  next_payment_date            21623 non-null  datetime64[ns]\n",
      " 38  last_credit_pull_date        54224 non-null  datetime64[ns]\n",
      " 39  collections_12_mths_ex_med   54180 non-null  float64       \n",
      " 40  mths_since_last_major_derog  7499 non-null   float64       \n",
      " 41  policy_code                  54231 non-null  category      \n",
      " 42  application_type             54231 non-null  category      \n",
      "dtypes: category(9), datetime64[ns](5), float64(21), int64(7), object(1)\n",
      "memory usage: 14.5+ MB\n"
     ]
    }
   ],
   "source": [
    "transformed_df.info()\n",
    "#create the transformed_df.csv file\n",
    "transformed_df.to_csv('transformed_df.csv')"
   ]
  },
  {
   "cell_type": "markdown",
   "metadata": {},
   "source": [
    "# Testing DataFrameInfo Class Methods:"
   ]
  },
  {
   "cell_type": "code",
   "execution_count": 18,
   "metadata": {},
   "outputs": [],
   "source": [
    "from DataFrameInfo import DataFrameInfo\n",
    "\n",
    "df_info = DataFrameInfo(transformed_df)"
   ]
  },
  {
   "cell_type": "code",
   "execution_count": 19,
   "metadata": {},
   "outputs": [
    {
     "name": "stdout",
     "output_type": "stream",
     "text": [
      "Column Data Types:\n",
      "id                                      int64\n",
      "member_id                               int64\n",
      "loan_amount                             int64\n",
      "funded_amount                         float64\n",
      "funded_amount_inv                     float64\n",
      "term                                  float64\n",
      "int_rate                              float64\n",
      "instalment                            float64\n",
      "grade                                category\n",
      "sub_grade                            category\n",
      "employment_length                    category\n",
      "home_ownership                       category\n",
      "annual_inc                            float64\n",
      "verification_status                  category\n",
      "issue_date                     datetime64[ns]\n",
      "loan_status                          category\n",
      "payment_plan                           object\n",
      "purpose                              category\n",
      "dti                                   float64\n",
      "delinq_2yrs                             int64\n",
      "earliest_credit_line           datetime64[ns]\n",
      "inq_last_6mths                          int64\n",
      "mths_since_last_delinq                float64\n",
      "mths_since_last_record                float64\n",
      "open_accounts                           int64\n",
      "total_accounts                          int64\n",
      "out_prncp                             float64\n",
      "out_prncp_inv                         float64\n",
      "total_payment                         float64\n",
      "total_payment_inv                     float64\n",
      "total_rec_prncp                       float64\n",
      "total_rec_int                         float64\n",
      "total_rec_late_fee                    float64\n",
      "recoveries                            float64\n",
      "collection_recovery_fee               float64\n",
      "last_payment_date              datetime64[ns]\n",
      "last_payment_amount                   float64\n",
      "next_payment_date              datetime64[ns]\n",
      "last_credit_pull_date          datetime64[ns]\n",
      "collections_12_mths_ex_med            float64\n",
      "mths_since_last_major_derog           float64\n",
      "policy_code                          category\n",
      "application_type                     category\n",
      "dtype: object\n"
     ]
    }
   ],
   "source": [
    "print(\"Column Data Types:\")\n",
    "print(df_info.describe_columns())"
   ]
  },
  {
   "cell_type": "code",
   "execution_count": 20,
   "metadata": {},
   "outputs": [
    {
     "name": "stdout",
     "output_type": "stream",
     "text": [
      "\n",
      "Statistical Values:\n",
      "                 id     member_id   loan_amount  funded_amount  \\\n",
      "count  5.423100e+04  5.423100e+04  54231.000000   51224.000000   \n",
      "mean   7.621797e+06  8.655350e+06  13333.076100   13229.509117   \n",
      "min    5.552100e+04  7.069400e+04    500.000000     500.000000   \n",
      "25%    7.594330e+05  9.587720e+05   7000.000000    7000.000000   \n",
      "50%    7.084590e+06  8.709873e+06  12000.000000   12000.000000   \n",
      "75%    8.860616e+06  1.052714e+07  18000.000000   18000.000000   \n",
      "max    3.867612e+07  4.146185e+07  35000.000000   35000.000000   \n",
      "std    9.571362e+06  1.031281e+07   8082.196709    8019.017599   \n",
      "\n",
      "       funded_amount_inv          term      int_rate    instalment  \\\n",
      "count       54231.000000  49459.000000  49062.000000  54231.000000   \n",
      "mean        12952.622979     42.606199     13.507328    400.013953   \n",
      "min             0.000000     36.000000      5.420000     15.670000   \n",
      "25%          6700.000000     36.000000     10.370000    224.205000   \n",
      "50%         11300.000000     36.000000     13.160000    347.150000   \n",
      "75%         18000.000000     60.000000     16.200000    527.550000   \n",
      "max         35000.000000     60.000000     26.060000   1407.010000   \n",
      "std          8099.473527     10.719573      4.392893    238.920012   \n",
      "\n",
      "         annual_inc                     issue_date  ...  total_rec_int  \\\n",
      "count  5.423100e+04                          54231  ...   54231.000000   \n",
      "mean   7.222085e+04  2018-09-17 11:41:04.855894272  ...    2577.757101   \n",
      "min    3.300000e+03            2013-06-01 00:00:00  ...       0.000000   \n",
      "25%    4.500000e+04            2017-05-01 00:00:00  ...     889.560000   \n",
      "50%    6.100000e+04            2019-09-01 00:00:00  ...    1734.640000   \n",
      "75%    8.600000e+04            2019-11-01 00:00:00  ...    3323.765000   \n",
      "max    2.039784e+06            2021-01-01 00:00:00  ...   23062.450000   \n",
      "std    5.158934e+04                            NaN  ...    2581.657345   \n",
      "\n",
      "       total_rec_late_fee    recoveries  collection_recovery_fee  \\\n",
      "count        54231.000000  54231.000000             54231.000000   \n",
      "mean             0.901512     93.501288                10.859057   \n",
      "min              0.000000      0.000000                 0.000000   \n",
      "25%              0.000000      0.000000                 0.000000   \n",
      "50%              0.000000      0.000000                 0.000000   \n",
      "75%              0.000000      0.000000                 0.000000   \n",
      "max            358.680000  27750.000000              7002.190000   \n",
      "std              6.215792    630.843636               120.193950   \n",
      "\n",
      "                   last_payment_date  last_payment_amount  \\\n",
      "count                          54158         54231.000000   \n",
      "mean   2020-08-23 00:21:38.600391680          3130.706393   \n",
      "min              2013-12-01 00:00:00             0.000000   \n",
      "25%              2019-11-01 00:00:00           289.790000   \n",
      "50%              2021-04-01 00:00:00           562.670000   \n",
      "75%              2022-01-01 00:00:00          3738.120000   \n",
      "max              2022-01-01 00:00:00         36115.200000   \n",
      "std                              NaN          5323.801675   \n",
      "\n",
      "                   next_payment_date          last_credit_pull_date  \\\n",
      "count                          21623                          54224   \n",
      "mean   2021-10-18 16:47:47.613189632  2021-04-15 16:16:28.964296192   \n",
      "min              2014-01-01 00:00:00            2013-05-01 00:00:00   \n",
      "25%              2022-02-01 00:00:00            2021-02-01 00:00:00   \n",
      "50%              2022-02-01 00:00:00            2022-01-01 00:00:00   \n",
      "75%              2022-02-01 00:00:00            2022-01-01 00:00:00   \n",
      "max              2022-02-01 00:00:00            2022-01-01 00:00:00   \n",
      "std                              NaN                            NaN   \n",
      "\n",
      "       collections_12_mths_ex_med  mths_since_last_major_derog  \n",
      "count                54180.000000                  7499.000000  \n",
      "mean                     0.004208                    42.253634  \n",
      "min                      0.000000                     0.000000  \n",
      "25%                      0.000000                    26.000000  \n",
      "50%                      0.000000                    42.000000  \n",
      "75%                      0.000000                    59.000000  \n",
      "max                      4.000000                   146.000000  \n",
      "std                      0.070990                    21.052360  \n",
      "\n",
      "[8 rows x 33 columns]\n"
     ]
    }
   ],
   "source": [
    "print(\"\\nStatistical Values:\")\n",
    "print(df_info.extract_statistical_values())"
   ]
  },
  {
   "cell_type": "code",
   "execution_count": 21,
   "metadata": {},
   "outputs": [
    {
     "name": "stdout",
     "output_type": "stream",
     "text": [
      "\n",
      "Distinct Values Count:\n",
      "id                             54231\n",
      "member_id                      54231\n",
      "loan_amount                     1083\n",
      "funded_amount                   1122\n",
      "funded_amount_inv               5261\n",
      "term                               2\n",
      "int_rate                         457\n",
      "instalment                     19940\n",
      "grade                              7\n",
      "sub_grade                         35\n",
      "employment_length                 11\n",
      "home_ownership                     5\n",
      "annual_inc                      6132\n",
      "verification_status                3\n",
      "issue_date                        61\n",
      "loan_status                        9\n",
      "payment_plan                       2\n",
      "purpose                           14\n",
      "dti                             3611\n",
      "delinq_2yrs                       16\n",
      "earliest_credit_line             587\n",
      "inq_last_6mths                    24\n",
      "mths_since_last_delinq           100\n",
      "mths_since_last_record           120\n",
      "open_accounts                     48\n",
      "total_accounts                    88\n",
      "out_prncp                      17673\n",
      "out_prncp_inv                  17872\n",
      "total_payment                  51698\n",
      "total_payment_inv              51561\n",
      "total_rec_prncp                25117\n",
      "total_rec_int                  49331\n",
      "total_rec_late_fee              1439\n",
      "recoveries                      3599\n",
      "collection_recovery_fee         2944\n",
      "last_payment_date                 98\n",
      "last_payment_amount            38235\n",
      "next_payment_date                 96\n",
      "last_credit_pull_date            101\n",
      "collections_12_mths_ex_med         5\n",
      "mths_since_last_major_derog      113\n",
      "policy_code                        1\n",
      "application_type                   1\n",
      "dtype: int64\n"
     ]
    }
   ],
   "source": [
    "print(\"\\nDistinct Values Count:\")\n",
    "print(df_info.count_distinct_values())"
   ]
  },
  {
   "cell_type": "code",
   "execution_count": 22,
   "metadata": {},
   "outputs": [
    {
     "name": "stdout",
     "output_type": "stream",
     "text": [
      "\n",
      "Null Values Information:\n",
      "                             Null Count  Percentage Null\n",
      "id                                    0         0.000000\n",
      "member_id                             0         0.000000\n",
      "loan_amount                           0         0.000000\n",
      "funded_amount                      3007         5.544799\n",
      "funded_amount_inv                     0         0.000000\n",
      "term                               4772         8.799395\n",
      "int_rate                           5169         9.531449\n",
      "instalment                            0         0.000000\n",
      "grade                                 0         0.000000\n",
      "sub_grade                             0         0.000000\n",
      "employment_length                  2118         3.905515\n",
      "home_ownership                        0         0.000000\n",
      "annual_inc                            0         0.000000\n",
      "verification_status                   0         0.000000\n",
      "issue_date                            0         0.000000\n",
      "loan_status                           0         0.000000\n",
      "payment_plan                          0         0.000000\n",
      "purpose                               0         0.000000\n",
      "dti                                   0         0.000000\n",
      "delinq_2yrs                           0         0.000000\n",
      "earliest_credit_line                  0         0.000000\n",
      "inq_last_6mths                        0         0.000000\n",
      "mths_since_last_delinq            31002        57.166565\n",
      "mths_since_last_record            48050        88.602460\n",
      "open_accounts                         0         0.000000\n",
      "total_accounts                        0         0.000000\n",
      "out_prncp                             0         0.000000\n",
      "out_prncp_inv                         0         0.000000\n",
      "total_payment                         0         0.000000\n",
      "total_payment_inv                     0         0.000000\n",
      "total_rec_prncp                       0         0.000000\n",
      "total_rec_int                         0         0.000000\n",
      "total_rec_late_fee                    0         0.000000\n",
      "recoveries                            0         0.000000\n",
      "collection_recovery_fee               0         0.000000\n",
      "last_payment_date                    73         0.134609\n",
      "last_payment_amount                   0         0.000000\n",
      "next_payment_date                 32608        60.127971\n",
      "last_credit_pull_date                 7         0.012908\n",
      "collections_12_mths_ex_med           51         0.094042\n",
      "mths_since_last_major_derog       46732        86.172116\n",
      "policy_code                           0         0.000000\n",
      "application_type                      0         0.000000\n"
     ]
    }
   ],
   "source": [
    "print(\"\\nNull Values Information:\")\n",
    "print(df_info.count_null_values())"
   ]
  },
  {
   "cell_type": "code",
   "execution_count": 23,
   "metadata": {},
   "outputs": [
    {
     "name": "stdout",
     "output_type": "stream",
     "text": [
      "DataFrame Shape: (54231, 43)\n"
     ]
    },
    {
     "data": {
      "text/plain": [
       "('recoveries', 'collection_recovery_fee')"
      ]
     },
     "execution_count": 23,
     "metadata": {},
     "output_type": "execute_result"
    }
   ],
   "source": [
    "df_info.print_shape()\n",
    "\n",
    "'recoveries','collection_recovery_fee'"
   ]
  },
  {
   "cell_type": "code",
   "execution_count": 24,
   "metadata": {},
   "outputs": [
    {
     "name": "stdout",
     "output_type": "stream",
     "text": [
      "float64\n"
     ]
    }
   ],
   "source": [
    "column_data_type = transformed_df['collection_recovery_fee'].dtypes\n",
    "print(column_data_type)"
   ]
  }
 ],
 "metadata": {
  "kernelspec": {
   "display_name": "base",
   "language": "python",
   "name": "python3"
  },
  "language_info": {
   "codemirror_mode": {
    "name": "ipython",
    "version": 3
   },
   "file_extension": ".py",
   "mimetype": "text/x-python",
   "name": "python",
   "nbconvert_exporter": "python",
   "pygments_lexer": "ipython3",
   "version": "3.11.5"
  }
 },
 "nbformat": 4,
 "nbformat_minor": 2
}
