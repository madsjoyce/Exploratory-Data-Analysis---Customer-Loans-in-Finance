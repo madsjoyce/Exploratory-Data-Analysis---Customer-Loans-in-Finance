{
 "cells": [
  {
   "cell_type": "code",
   "execution_count": 1,
   "metadata": {},
   "outputs": [],
   "source": [
    "import pandas as pd\n",
    "from Data_transform import DataTransform\n",
    "transformed_df = pd.read_csv(\"loan_payments_data.csv\")"
   ]
  },
  {
   "cell_type": "code",
   "execution_count": 2,
   "metadata": {},
   "outputs": [],
   "source": [
    "transformer = DataTransform(transformed_df)"
   ]
  },
  {
   "cell_type": "code",
   "execution_count": 3,
   "metadata": {},
   "outputs": [
    {
     "name": "stdout",
     "output_type": "stream",
     "text": [
      "term\n"
     ]
    }
   ],
   "source": [
    "excess_symbol_columns = ['term']\n",
    "\n",
    "for column in excess_symbol_columns:\n",
    "    print(column)\n",
    "    transformer.remove_excess_symbols(column)"
   ]
  },
  {
   "cell_type": "code",
   "execution_count": 4,
   "metadata": {},
   "outputs": [
    {
     "name": "stdout",
     "output_type": "stream",
     "text": [
      "issue_date\n",
      "earliest_credit_line\n",
      "last_payment_date\n",
      "next_payment_date\n",
      "last_credit_pull_date\n"
     ]
    }
   ],
   "source": [
    "date_columns = ['issue_date', 'earliest_credit_line', 'last_payment_date', 'next_payment_date', 'last_credit_pull_date']\n",
    "\n",
    "for column in date_columns:\n",
    "    print(column)\n",
    "    transformer.convert_to_datetime(column)"
   ]
  },
  {
   "cell_type": "code",
   "execution_count": 5,
   "metadata": {},
   "outputs": [
    {
     "name": "stdout",
     "output_type": "stream",
     "text": [
      "term\n"
     ]
    }
   ],
   "source": [
    "numeric_columns = ['term']\n",
    "\n",
    "for column in numeric_columns:\n",
    "    print(column)\n",
    "    transformer.convert_to_numeric(column)"
   ]
  },
  {
   "cell_type": "code",
   "execution_count": 6,
   "metadata": {},
   "outputs": [
    {
     "name": "stdout",
     "output_type": "stream",
     "text": [
      "home_ownership\n",
      "grade\n",
      "sub_grade\n",
      "verification_status\n",
      "loan_status\n",
      "purpose\n",
      "policy_code\n",
      "application_type\n",
      "employment_length\n"
     ]
    }
   ],
   "source": [
    "categorical_columns = ['home_ownership', 'grade', 'sub_grade', 'verification_status', 'loan_status', 'purpose', 'policy_code', 'application_type','employment_length']\n",
    "\n",
    "for column in categorical_columns:\n",
    "    print(column)\n",
    "    transformer.convert_to_categorical(column)"
   ]
  },
  {
   "cell_type": "code",
   "execution_count": 7,
   "metadata": {},
   "outputs": [
    {
     "name": "stdout",
     "output_type": "stream",
     "text": [
      "employment_length\n"
     ]
    }
   ],
   "source": [
    "category_to_numeric_columns = ['employment_length']\n",
    "\n",
    "for column in category_to_numeric_columns:\n",
    "    print(column)\n",
    "    transformer.convert_categorical_to_numeric(column)"
   ]
  },
  {
   "cell_type": "code",
   "execution_count": 12,
   "metadata": {},
   "outputs": [
    {
     "name": "stdout",
     "output_type": "stream",
     "text": [
      "<class 'pandas.core.frame.DataFrame'>\n",
      "RangeIndex: 54231 entries, 0 to 54230\n",
      "Data columns (total 43 columns):\n",
      " #   Column                       Non-Null Count  Dtype         \n",
      "---  ------                       --------------  -----         \n",
      " 0   id                           54231 non-null  int64         \n",
      " 1   member_id                    54231 non-null  int64         \n",
      " 2   loan_amount                  54231 non-null  int64         \n",
      " 3   funded_amount                51224 non-null  float64       \n",
      " 4   funded_amount_inv            54231 non-null  float64       \n",
      " 5   term                         49459 non-null  float64       \n",
      " 6   int_rate                     49062 non-null  float64       \n",
      " 7   instalment                   54231 non-null  float64       \n",
      " 8   grade                        54231 non-null  category      \n",
      " 9   sub_grade                    54231 non-null  category      \n",
      " 10  employment_length            52113 non-null  category      \n",
      " 11  home_ownership               54231 non-null  category      \n",
      " 12  annual_inc                   54231 non-null  float64       \n",
      " 13  verification_status          54231 non-null  category      \n",
      " 14  issue_date                   54231 non-null  datetime64[ns]\n",
      " 15  loan_status                  54231 non-null  category      \n",
      " 16  payment_plan                 54231 non-null  object        \n",
      " 17  purpose                      54231 non-null  category      \n",
      " 18  dti                          54231 non-null  float64       \n",
      " 19  delinq_2yrs                  54231 non-null  int64         \n",
      " 20  earliest_credit_line         54231 non-null  datetime64[ns]\n",
      " 21  inq_last_6mths               54231 non-null  int64         \n",
      " 22  mths_since_last_delinq       23229 non-null  float64       \n",
      " 23  mths_since_last_record       6181 non-null   float64       \n",
      " 24  open_accounts                54231 non-null  int64         \n",
      " 25  total_accounts               54231 non-null  int64         \n",
      " 26  out_prncp                    54231 non-null  float64       \n",
      " 27  out_prncp_inv                54231 non-null  float64       \n",
      " 28  total_payment                54231 non-null  float64       \n",
      " 29  total_payment_inv            54231 non-null  float64       \n",
      " 30  total_rec_prncp              54231 non-null  float64       \n",
      " 31  total_rec_int                54231 non-null  float64       \n",
      " 32  total_rec_late_fee           54231 non-null  float64       \n",
      " 33  recoveries                   54231 non-null  float64       \n",
      " 34  collection_recovery_fee      54231 non-null  float64       \n",
      " 35  last_payment_date            54158 non-null  datetime64[ns]\n",
      " 36  last_payment_amount          54231 non-null  float64       \n",
      " 37  next_payment_date            21623 non-null  datetime64[ns]\n",
      " 38  last_credit_pull_date        54224 non-null  datetime64[ns]\n",
      " 39  collections_12_mths_ex_med   54180 non-null  float64       \n",
      " 40  mths_since_last_major_derog  7499 non-null   float64       \n",
      " 41  policy_code                  54231 non-null  category      \n",
      " 42  application_type             54231 non-null  category      \n",
      "dtypes: category(9), datetime64[ns](5), float64(21), int64(7), object(1)\n",
      "memory usage: 14.5+ MB\n"
     ]
    }
   ],
   "source": [
    "transformed_df.info()\n",
    "transformed_df.to_csv('transformed_df.csv')"
   ]
  }
 ],
 "metadata": {
  "kernelspec": {
   "display_name": "base",
   "language": "python",
   "name": "python3"
  },
  "language_info": {
   "codemirror_mode": {
    "name": "ipython",
    "version": 3
   },
   "file_extension": ".py",
   "mimetype": "text/x-python",
   "name": "python",
   "nbconvert_exporter": "python",
   "pygments_lexer": "ipython3",
   "version": "3.11.5"
  }
 },
 "nbformat": 4,
 "nbformat_minor": 2
}
